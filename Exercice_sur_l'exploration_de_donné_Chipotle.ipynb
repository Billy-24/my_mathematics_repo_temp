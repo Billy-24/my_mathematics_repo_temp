{
  "nbformat": 4,
  "nbformat_minor": 0,
  "metadata": {
    "colab": {
      "private_outputs": true,
      "provenance": [],
      "authorship_tag": "ABX9TyOFeOboTIi6CffglYn9zF0V",
      "include_colab_link": true
    },
    "kernelspec": {
      "name": "python3",
      "display_name": "Python 3"
    },
    "language_info": {
      "name": "python"
    }
  },
  "cells": [
    {
      "cell_type": "markdown",
      "metadata": {
        "id": "view-in-github",
        "colab_type": "text"
      },
      "source": [
        "<a href=\"https://colab.research.google.com/github/Billy-24/my_mathematics_repo_temp/blob/main/Exercice_sur_l'exploration_de_donn%C3%A9_Chipotle.ipynb\" target=\"_parent\"><img src=\"https://colab.research.google.com/assets/colab-badge.svg\" alt=\"Open In Colab\"/></a>"
      ]
    },
    {
      "cell_type": "code",
      "execution_count": null,
      "metadata": {
        "id": "8j8WFnXB7i-N"
      },
      "outputs": [],
      "source": [
        "import pandas as pd\n",
        "from google.colab import files\n",
        "import io\n",
        "uploaded = files.upload()\n",
        "import matplotlib.pyplot as plt\n",
        "import numpy as np\n",
        "import datetime\n",
        "import seaborn as sns\n",
        "import sklearn\n",
        "from sklearn.model_selection import train_test_split\n",
        "from sklearn.impute import SimpleImputer\n",
        "from sklearn.preprocessing import LabelEncoder\n",
        "\n"
      ]
    },
    {
      "cell_type": "code",
      "source": [
        "data = pd.read_csv(io.BytesIO(uploaded['chipotle.csv']))\n",
        "data.tail(10)"
      ],
      "metadata": {
        "id": "CeXXXhs97xFm"
      },
      "execution_count": null,
      "outputs": []
    },
    {
      "cell_type": "code",
      "source": [
        "data.info()"
      ],
      "metadata": {
        "id": "T0KDxz8YtYvV"
      },
      "execution_count": null,
      "outputs": []
    },
    {
      "cell_type": "code",
      "source": [
        "shape = data.shape"
      ],
      "metadata": {
        "id": "I4bY2xiMx6FI"
      },
      "execution_count": null,
      "outputs": []
    },
    {
      "cell_type": "code",
      "source": [
        "# Affichez le nombre de lignes et de colonnes\n",
        "print(\"Nombre de lignes :\", shape[0])\n",
        "print(\"Nombre de colonnes :\", shape[1])"
      ],
      "metadata": {
        "id": "NK57xKz5ymIE"
      },
      "execution_count": null,
      "outputs": []
    },
    {
      "cell_type": "code",
      "source": [
        "# Affichez toutes les colonnes en utilisant l'attribut columns\n",
        "print(data.columns)"
      ],
      "metadata": {
        "id": "ES5lFPOny1EM"
      },
      "execution_count": null,
      "outputs": []
    },
    {
      "cell_type": "code",
      "source": [
        "commandes_par_article = data.groupby('item_name').agg({'order_id': 'count', 'quantity': 'sum'})"
      ],
      "metadata": {
        "id": "3QjZNlBW_6t7"
      },
      "execution_count": null,
      "outputs": []
    },
    {
      "cell_type": "code",
      "source": [
        "# Réinitialisez l'index pour afficher les noms d'article en tant que colonne\n",
        "resultat = commandes_par_article.reset_index()\n"
      ],
      "metadata": {
        "id": "2Qk-nA1bYGjY"
      },
      "execution_count": null,
      "outputs": []
    },
    {
      "cell_type": "code",
      "source": [
        "# Trouvez l'article avec le nombre de commandes le plus élevé\n",
        "article_plus_commande = commandes_par_article.idxmax()"
      ],
      "metadata": {
        "id": "RvbhvSh8JvQt"
      },
      "execution_count": null,
      "outputs": []
    },
    {
      "cell_type": "code",
      "source": [
        "# Affichez l'article le plus commandé\n",
        "print(\"L'article le plus commandé est :\", article_plus_commande)"
      ],
      "metadata": {
        "id": "j8dXEvv7KDr1"
      },
      "execution_count": null,
      "outputs": []
    },
    {
      "cell_type": "code",
      "source": [
        "# Groupez les données par le nom de l'article\n",
        "resultat = data.groupby('item_name').agg({'order_id': 'count', 'order_id': 'sum', 'quantity': 'sum'})\n",
        "\n",
        "# Renommez les colonnes\n",
        "resultat = resultat.rename(columns={'order_id': 'count', 'quantity': 'sum'})\n",
        "\n",
        "# Réinitialisez l'index pour afficher les noms d'article en tant que colonne\n",
        "resultat = resultat.reset_index()\n",
        "\n",
        "# Ajoutez une colonne 'Sans nom' pour les noms d'article\n",
        "resultat['item_name'] = resultat['item_name']\n",
        "\n",
        "# Réorganisez les colonnes dans l'ordre souhaité\n",
        "resultat = resultat[['item_name','count', 'sum']]\n",
        "# Triez le DataFrame par la colonne 'Somme des numéros de commande' en ordre décroissant\n",
        "resultat = resultat.sort_values(by='sum', ascending=False)\n",
        "\n",
        "# Réinitialisez l'index après le tri\n",
        "resultat = resultat.reset_index(drop=True)\n",
        "\n",
        "# Affichez le résultat\n",
        "print(resultat)\n",
        "\n",
        "\n",
        "\n",
        "\n",
        "\n",
        "\n"
      ],
      "metadata": {
        "id": "l0Jht-avyQrE"
      },
      "execution_count": null,
      "outputs": []
    },
    {
      "cell_type": "code",
      "source": [
        "nombre_articles_commandes = data['quantity'].count()\n",
        "\n",
        "# Affichez le résultat\n",
        "print(\"Le nombre total d'articles commandés dans le dataset Chipotle est :\", nombre_articles_commandes)"
      ],
      "metadata": {
        "id": "9JCMSx_H6JLT"
      },
      "execution_count": null,
      "outputs": []
    },
    {
      "cell_type": "code",
      "source": [
        "\n",
        "# B. Calcul du prix total pour chaque article\n",
        "data['revenus'] = data['quantity'] * data['item_price']\n",
        "\n",
        "# C. Calcul du total des revenus\n",
        "total_revenus = data['revenus'].sum()\n",
        "\n"
      ],
      "metadata": {
        "id": "0QdkcklV8YNO"
      },
      "execution_count": null,
      "outputs": []
    },
    {
      "cell_type": "code",
      "source": [
        "# D. Arrondir le résultat à deux décimales\n",
        "total_revenus_arrondi = round(total_revenus, 2)\n",
        "\n",
        "# Affichez le résultat\n",
        "print(\"Le total des revenus réalisés par Chipotle est :\", total_revenus_arrondi)"
      ],
      "metadata": {
        "id": "qDDWHZhl9C0x"
      },
      "execution_count": null,
      "outputs": []
    },
    {
      "cell_type": "code",
      "source": [
        "# B. Calcul du prix total pour chaque article\n",
        "data['revenus'] = data['quantity'] * data['item_price']"
      ],
      "metadata": {
        "id": "egnH-g2x-z-e"
      },
      "execution_count": null,
      "outputs": []
    },
    {
      "cell_type": "code",
      "source": [
        "# Groupez les données par numéro de commande et calculez la somme des revenus pour chaque commande\n",
        "revenus_par_commande = data.groupby('order_id')['revenus'].sum()\n",
        "\n",
        "# Calculez la moyenne des revenus par commande\n",
        "revenu_moyen_par_commande = revenus_par_commande.mean()\n",
        "# Affichez le résultat\n",
        "print(\"Le revenu moyen par commande est de :\", revenu_moyen_par_commande)\n"
      ],
      "metadata": {
        "id": "zQNMm0LrAuv7"
      },
      "execution_count": null,
      "outputs": []
    },
    {
      "cell_type": "code",
      "source": [
        "# B. Calcul du prix total pour chaque article\n",
        "data['revenus'] = data['quantity'] * data['item_price']\n",
        "# Groupez les données par numéro de commande et calculez la somme des revenus pour chaque commande\n",
        "revenus_par_commande = data.groupby('order_id')['revenus'].sum()\n",
        "\n",
        "# Calculez la moyenne des revenus par commande\n",
        "revenu_moyen_par_commande = revenus_par_commande.mean()\n",
        "# Calculez la moyenne pour chaque colonne\n",
        "resultat = data.mean()\n",
        "\n",
        "# Renommez l'index pour le rendre conforme à votre exemple\n",
        "resultat.index.name = 'Unnamed: 0'\n",
        "# Affichez le résultat\n",
        "print(\"Le revenu moyen par commande est de :\", revenu_moyen_par_commande)\n",
        "\n",
        "# Affichez le résultat\n",
        "print(resultat)"
      ],
      "metadata": {
        "id": "Kq9AiEjtB8Wu"
      },
      "execution_count": null,
      "outputs": []
    }
  ]
}