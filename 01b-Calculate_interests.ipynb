{
 "cells": [
  {
   "cell_type": "code",
   "execution_count": null,
   "metadata": {},
   "outputs": [],
   "source": [
    "def calculate_future_value():\n",
    "    try:\n",
    "        principal = float(input(\"Enter the total amount you wish to place: \"))\n",
    "        if principal < 0:\n",
    "            \n",
    "           raise ValueError(\"Principal amount cannot be negative\")\n",
    "\n",
    "        years = int(input(\"Enter the number of years to invest your money: \"))\n",
    "        if years < 0:\n",
    "            raise ValueError(\"Number of years cannot be negative\")\n",
    "\n",
    "        interest_rate = float(input(\"Enter the annual interest rate (as a decimal): \"))\n",
    "        if interest_rate < 0:\n",
    "            raise ValueError(\"Interest rate cannot be negative\")\n",
    "        if interest_rate > 1:\n",
    "            raise ValueError(\"Please enter the interest rate as a decimal, not a percentage (e.g., 0.10 for 10%)\")\n",
    "\n",
    "        future_value = principal * (1 + interest_rate) ** years\n",
    "        print(f\"Your total amount after {years} years will be: ${future_value:.2f}\")\n",
    "    except ValueError as e:\n",
    "        print(f\"Error: {e}\")\n",
    "    except Exception as e:\n",
    "        print(f\"An unexpected error occurred: {e}\")\n",
    "\n",
    "calculate_future_value()"
   ]
  }
 ],
 "metadata": {
  "language_info": {
   "name": "python"
  },
  "orig_nbformat": 4
 },
 "nbformat": 4,
 "nbformat_minor": 2
}
