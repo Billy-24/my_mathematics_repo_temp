{
  "nbformat": 4,
  "nbformat_minor": 0,
  "metadata": {
    "colab": {
      "private_outputs": true,
      "provenance": [],
      "include_colab_link": true
    },
    "kernelspec": {
      "name": "python3",
      "display_name": "Python 3"
    },
    "language_info": {
      "name": "python"
    }
  },
  "cells": [
    {
      "cell_type": "markdown",
      "metadata": {
        "id": "view-in-github",
        "colab_type": "text"
      },
      "source": [
        "<a href=\"https://colab.research.google.com/github/Billy-24/my_mathematics_repo_temp/blob/main/projet_loan_bank_projet_version_final_du_15_09_(1).ipynb\" target=\"_parent\"><img src=\"https://colab.research.google.com/assets/colab-badge.svg\" alt=\"Open In Colab\"/></a>"
      ]
    },
    {
      "cell_type": "code",
      "source": [
        "import pandas as pd\n",
        "from google.colab import files\n",
        "import io\n",
        "uploaded = files.upload()\n",
        "import matplotlib.pyplot as plt\n",
        "import numpy as np\n",
        "import seaborn as sns\n",
        "import sklearn\n",
        "from sklearn.model_selection import train_test_split\n",
        "from sklearn.impute import SimpleImputer\n",
        "from sklearn.preprocessing import LabelEncoder\n",
        "from sklearn.model_selection import train_test_split\n",
        "from sklearn.preprocessing import StandardScaler, OneHotEncoder\n",
        "from sklearn.compose import ColumnTransformer\n",
        "from sklearn.linear_model import LogisticRegression\n",
        "from sklearn.tree import DecisionTreeClassifier\n",
        "from sklearn.ensemble import RandomForestClassifier\n",
        "from sklearn.metrics import confusion_matrix, ConfusionMatrixDisplay"
      ],
      "metadata": {
        "id": "P-_gIJVmM4ip"
      },
      "execution_count": null,
      "outputs": []
    },
    {
      "cell_type": "code",
      "source": [
        "data = pd.read_csv(io.BytesIO(uploaded['train_u6lujuX_CVtuZ9i (1).csv']))\n",
        "data.head()"
      ],
      "metadata": {
        "id": "DgvaVzvkPEhq"
      },
      "execution_count": null,
      "outputs": []
    },
    {
      "cell_type": "code",
      "source": [
        "data.shape"
      ],
      "metadata": {
        "id": "K7ggHaja_MAg"
      },
      "execution_count": null,
      "outputs": []
    },
    {
      "cell_type": "code",
      "source": [
        "data.isnull().sum()"
      ],
      "metadata": {
        "id": "eP98Cni5PUWk"
      },
      "execution_count": null,
      "outputs": []
    },
    {
      "cell_type": "code",
      "source": [
        "data.info()"
      ],
      "metadata": {
        "id": "d8FKR5czPP5J"
      },
      "execution_count": null,
      "outputs": []
    },
    {
      "cell_type": "code",
      "source": [
        "data.describe(include=\"all\")"
      ],
      "metadata": {
        "id": "veVbaCBFPY-k"
      },
      "execution_count": null,
      "outputs": []
    },
    {
      "cell_type": "code",
      "source": [
        "cat_data=[]\n",
        "num_data=[]\n",
        "for i,c in enumerate(data.dtypes):\n",
        "  if c==object:\n",
        "    cat_data.append(data.iloc[:,i])\n",
        "  else:\n",
        "    num_data.append(data.iloc[:,i])\n",
        "cat_data=pd.DataFrame(cat_data)\n",
        "cat_data"
      ],
      "metadata": {
        "id": "vOCpRBtoPeyn"
      },
      "execution_count": null,
      "outputs": []
    },
    {
      "cell_type": "code",
      "source": [
        "#Renseigner les valeurs manquantes\n",
        "cat_data=[]\n",
        "num_data=[]\n",
        "for i,c in enumerate(data.dtypes):\n",
        "  if c==object:\n",
        "    cat_data.append(data.iloc[:,i])\n",
        "  else:\n",
        "    num_data.append(data.iloc[:,i])\n",
        "cat_data=pd.DataFrame(cat_data).transpose()\n",
        "num_data=pd.DataFrame(num_data).transpose()\n"
      ],
      "metadata": {
        "id": "4lvQ0OlUPjuf"
      },
      "execution_count": null,
      "outputs": []
    },
    {
      "cell_type": "code",
      "source": [
        "# Un test pour voir si on retrouve encore des NAN dans le dataset\n",
        "cat_data['Gender'].value_counts()"
      ],
      "metadata": {
        "id": "wywgsNxgPps-"
      },
      "execution_count": null,
      "outputs": []
    },
    {
      "cell_type": "code",
      "source": [
        "# pour les valeurs manquantes dans les variables cathégoriques, on doit les remplacer par le Mode\n",
        "cat_data=cat_data.apply(lambda x:x.fillna(x.value_counts().index[0]))\n",
        "cat_data.isnull().sum().any()"
      ],
      "metadata": {
        "id": "9CfeFIdSPvuh"
      },
      "execution_count": null,
      "outputs": []
    },
    {
      "cell_type": "code",
      "source": [
        "cat_data"
      ],
      "metadata": {
        "id": "heTW5T1KMCy6"
      },
      "execution_count": null,
      "outputs": []
    },
    {
      "cell_type": "code",
      "source": [
        "num_data"
      ],
      "metadata": {
        "id": "d9NhChVYMMD9"
      },
      "execution_count": null,
      "outputs": []
    },
    {
      "cell_type": "code",
      "source": [
        "cat_data['Dependents'].value_counts()"
      ],
      "metadata": {
        "id": "TQTjVF54P3R_"
      },
      "execution_count": null,
      "outputs": []
    },
    {
      "cell_type": "code",
      "source": [
        "#remplaçons les valeur manquante numérique par le mean\n",
        "num_data.fillna(method = 'bfill' , inplace= True)\n",
        "num_data.isnull().sum().any()"
      ],
      "metadata": {
        "id": "Dt2P1oHRP7rv"
      },
      "execution_count": null,
      "outputs": []
    },
    {
      "cell_type": "code",
      "source": [
        "num_data"
      ],
      "metadata": {
        "id": "_-Sg_VMEP_Z-"
      },
      "execution_count": null,
      "outputs": []
    },
    {
      "cell_type": "code",
      "source": [
        "cat_data.head()"
      ],
      "metadata": {
        "id": "rJDzbDoER3co"
      },
      "execution_count": null,
      "outputs": []
    },
    {
      "cell_type": "code",
      "source": [
        "#fusionner dataset à cette étape (combined_data)\n",
        "combined_data = pd.concat([cat_data, num_data], axis=1)\n",
        "\n",
        "combined_data"
      ],
      "metadata": {
        "id": "OYJ6JXmmbBnX"
      },
      "execution_count": null,
      "outputs": []
    },
    {
      "cell_type": "code",
      "source": [
        "\"\"\"\n",
        "fusionner dataset à cette étape (combined_data) : ok\n",
        "\n",
        "ensuite: isoler Features dans X (combined_data.colonnes_concernée), et target dans y (combined_data.colonne_concernée) ok\n",
        "\n",
        "train test split\n",
        "\n",
        "preprocessing(encoder les X et y)\n",
        "\n",
        "Machine Learning\n",
        "\"\"\""
      ],
      "metadata": {
        "id": "HQUXzEw1Zayb"
      },
      "execution_count": null,
      "outputs": []
    },
    {
      "cell_type": "code",
      "source": [
        "# Supposons que combined_data est votre DataFrame contenant les données combinées\n",
        "target_values = {'Y': 1, 'N': 0}\n",
        "\n",
        "# Créez un nouveau DataFrame avec la colonne 'Loan_Status' modifiée\n",
        "modified_data = combined_data.copy()\n",
        "modified_data['Loan_Status'] = modified_data['Loan_Status'].replace(target_values)\n",
        "modified_data['log_Applicant_Income'] = np.log(1+modified_data['ApplicantIncome'])\n",
        "modified_data['log_CoApplicant_Income'] = np.log(1+modified_data['CoapplicantIncome'])"
      ],
      "metadata": {
        "id": "Stpsll75jLbz"
      },
      "execution_count": null,
      "outputs": []
    },
    {
      "cell_type": "code",
      "source": [
        "modified_data"
      ],
      "metadata": {
        "id": "FO8Y9ejaXlVE"
      },
      "execution_count": null,
      "outputs": []
    },
    {
      "cell_type": "code",
      "source": [],
      "metadata": {
        "id": "CDn7grxqXlDo"
      },
      "execution_count": null,
      "outputs": []
    },
    {
      "cell_type": "code",
      "source": [
        "#ensuite: isoler Features dans X (combined_data.colonnes_concernée), et target dans y (combined_data.colonne_concernée)\n",
        "# Separate target variable Y from features X\n",
        "## Choose the columns you want to have as your features\n",
        "features_list = ['Gender', 'Married', 'Dependents','Education','Self_Employed',\n",
        "                 'ApplicantIncome',\t'CoapplicantIncome',\t'LoanAmount',\n",
        "                 'Loan_Amount_Term',\t'Credit_History',\t'Property_Area',\n",
        "                 'log_Applicant_Income', 'log_CoApplicant_Income']\n",
        "print(\"Splitting dataset into X and y...\")\n",
        "X = modified_data.loc[:,features_list] # We add feature_list into our loc\n",
        "\n",
        "y = modified_data.loc[:,\"Loan_Status\"] # We set \"Loan_Status\" as the target variable\n",
        "print(\"...Done.\")"
      ],
      "metadata": {
        "id": "OyOAMe8Wk2LK"
      },
      "execution_count": null,
      "outputs": []
    },
    {
      "cell_type": "code",
      "source": [
        "print(\"Splitting dataset into train set and test set...\")\n",
        "## Then we use train_test_split\n",
        "X_train, X_test, y_train, y_test = train_test_split(X, y, test_size=0.2, random_state=0,stratify=y)"
      ],
      "metadata": {
        "id": "gFxJr1NhT1kn"
      },
      "execution_count": null,
      "outputs": []
    },
    {
      "cell_type": "code",
      "source": [
        "### Training pipeline ###\n",
        "print(\"--- Training pipeline ---\")\n",
        "print()\n",
        "\n",
        "# Encoding categorical features and standardizing numeric features\n",
        "\n",
        "print(\"#### X_train BEFORE preprocessing ####\")\n",
        "print(X_train.head())\n",
        "print()\n",
        "\n",
        "print(\"Encoding categorical features and standardizing numerical features...\")\n",
        "## First let's import libraries\n",
        "## StandardScaler to scale data (i.e apply Z-score)\n",
        "## OneHotEncoder to encode categorical variables\n",
        "\n",
        "\n",
        "numeric_features = ['ApplicantIncome', 'CoapplicantIncome', 'LoanAmount',\n",
        "                    'Loan_Amount_Term', 'Credit_History',\n",
        "                    'log_Applicant_Income', 'log_CoApplicant_Income'] # Choose which column index we are going to scale\n",
        "numeric_transformer = StandardScaler()\n",
        "\n",
        "categorical_features = ['Gender', 'Married', 'Dependents', 'Education','Self_Employed','Property_Area'] # Choose which column index we are going to encode\n",
        "categorical_transformer = OneHotEncoder(drop=\"first\")\n",
        "\n",
        "# Apply ColumnTransformer to create a pipeline that will apply the above preprocessing\n",
        "feature_encoder = ColumnTransformer(transformers=[('cat', categorical_transformer, categorical_features),\n",
        "                                                  ('num', numeric_transformer, numeric_features)])\n",
        "# Apply ColumnTransformer to create a pipeline that will apply the above preprocessing\n",
        "feature_encoder = ColumnTransformer(\n",
        "    transformers=[\n",
        "        ('cat', categorical_transformer, categorical_features),\n",
        "        ('num', numeric_transformer, numeric_features)\n",
        "        ]\n",
        "    )\n"
      ],
      "metadata": {
        "id": "nRnfjd9jT1Ca"
      },
      "execution_count": null,
      "outputs": []
    },
    {
      "cell_type": "code",
      "source": [],
      "metadata": {
        "id": "x5POf_tp80-s"
      },
      "execution_count": null,
      "outputs": []
    },
    {
      "cell_type": "code",
      "source": [
        "X_train"
      ],
      "metadata": {
        "id": "vIvXR5mT9_l1"
      },
      "execution_count": null,
      "outputs": []
    },
    {
      "cell_type": "code",
      "source": [
        "y_train"
      ],
      "metadata": {
        "id": "m_5i4X7b-3Md"
      },
      "execution_count": null,
      "outputs": []
    },
    {
      "cell_type": "code",
      "source": [
        "modified_data"
      ],
      "metadata": {
        "id": "ND0_BnImYZg8"
      },
      "execution_count": null,
      "outputs": []
    },
    {
      "cell_type": "code",
      "source": [],
      "metadata": {
        "id": "hxiVmZK8-MUg"
      },
      "execution_count": null,
      "outputs": []
    },
    {
      "cell_type": "code",
      "source": [
        "\"\"\"set(compare_data.Loan_ID.tolist())-set(modified_data.Loan_ID.tolist())"
      ],
      "metadata": {
        "id": "cxc0X9YRYZY2"
      },
      "execution_count": null,
      "outputs": []
    },
    {
      "cell_type": "code",
      "source": [
        "# Créez un nuage de points avec 'ApplicantIncome' sur l'axe des x\n",
        "plt.scatter(range(len(modified_data['ApplicantIncome'])), np.log(1+modified_data['ApplicantIncome']))\n",
        "plt.show()"
      ],
      "metadata": {
        "id": "j8LE7UxpWXYx"
      },
      "execution_count": null,
      "outputs": []
    },
    {
      "cell_type": "code",
      "source": [
        "# Définissez une limite supérieure pour les valeurs acceptables\n",
        "limite_supérieure = 30000\n",
        "modified_data= modified_data[modified_data['ApplicantIncome'] <= limite_supérieure]"
      ],
      "metadata": {
        "id": "7NUUQ0xwXqO9"
      },
      "execution_count": null,
      "outputs": []
    },
    {
      "cell_type": "code",
      "source": [
        "# Scatter plot avant la suppression\n",
        "plt.scatter(range(len(modified_data['ApplicantIncome'])), modified_data['ApplicantIncome'])"
      ],
      "metadata": {
        "id": "g1SgAYTrZZTP"
      },
      "execution_count": null,
      "outputs": []
    },
    {
      "cell_type": "code",
      "source": [
        "plt.figure(figsize=(20,10))\n",
        "sns.heatmap(modified_data.isna(), cbar=False)"
      ],
      "metadata": {
        "id": "1h-0wlA7gH0v"
      },
      "execution_count": null,
      "outputs": []
    },
    {
      "cell_type": "code",
      "source": [
        "\n"
      ],
      "metadata": {
        "id": "Hgii7jyqfZ1z"
      },
      "execution_count": null,
      "outputs": []
    },
    {
      "cell_type": "code",
      "source": [],
      "metadata": {
        "id": "RRqVmld8Zew5"
      },
      "execution_count": null,
      "outputs": []
    },
    {
      "cell_type": "code",
      "source": [
        "\"\"\"#ensuite: isoler Features dans X (combined_data.colonnes_concernée), et target dans y (combined_data.colonne_concernée)\n",
        "# Separate target variable Y from features X\n",
        "## Choose the columns you want to have as your features\n",
        "features_list = ['Gender', 'Married', 'Dependents','Education','Self_Employed','ApplicantIncome',\t'CoapplicantIncome',\t'LoanAmount',\t'Loan_Amount_Term',\t'Credit_History',\t'Property_Area']\n",
        "print(\"Splitting dataset into X and y...\")\n",
        "X = modified_data.loc[:,features_list] # We add feature_list into our loc\n",
        "\n",
        "y = modified_data.loc[:,\"Loan_Status\"] # We set \"Loan_Status\" as the target variable\n",
        "print(\"...Done.\")\"\"\""
      ],
      "metadata": {
        "id": "c_qZx9VRZefV"
      },
      "execution_count": null,
      "outputs": []
    },
    {
      "cell_type": "code",
      "source": [
        "\"\"\"print(\"Splitting dataset into train set and test set...\")\n",
        "## Then we use train_test_split\n",
        "X_train, X_test, y_train, y_test = train_test_split(X, y, test_size=0.2, random_state=0,stratify=y)\"\"\""
      ],
      "metadata": {
        "id": "WImlXNApZeSp"
      },
      "execution_count": null,
      "outputs": []
    },
    {
      "cell_type": "code",
      "source": [],
      "metadata": {
        "id": "66SDdRigZeCy"
      },
      "execution_count": null,
      "outputs": []
    },
    {
      "cell_type": "code",
      "source": [
        "\"\"\"### Training pipeline ###\n",
        "print(\"--- Training pipeline ---\")\n",
        "print()\n",
        "\n",
        "# Encoding categorical features and standardizing numeric features\n",
        "\n",
        "print(\"#### X_train BEFORE preprocessing ####\")\n",
        "print(combined_data.head())\n",
        "print()\n",
        "\n",
        "print(\"Encoding categorical features and standardizing numerical features...\")\n",
        "## First let's import libraries\n",
        "## StandardScaler to scale data (i.e apply Z-score)\n",
        "## OneHotEncoder to encode categorical variables\n",
        "\n",
        "\n",
        "numeric_features = ['ApplicantIncome', 'CoapplicantIncome', 'LoanAmount', 'Loan_Amount_Term', 'Credit_History'] # Choose which column index we are going to scale\n",
        "numeric_transformer = StandardScaler()\n",
        "\n",
        "categorical_features = ['Gender', 'Married', 'Dependents', 'Education','Self_Employed','Property_Area'] # Choose which column index we are going to encode\n",
        "categorical_transformer = OneHotEncoder(drop=\"first\")\n",
        "\n",
        "# Apply ColumnTransformer to create a pipeline that will apply the above preprocessing\n",
        "feature_encoder = ColumnTransformer(transformers=[('cat', categorical_transformer, categorical_features), ('num', numeric_transformer, numeric_features)])\n",
        "# Apply ColumnTransformer to create a pipeline that will apply the above preprocessing\n",
        "feature_encoder = ColumnTransformer(\n",
        "    transformers=[\n",
        "        ('cat', categorical_transformer, categorical_features),\n",
        "        ('num', numeric_transformer, numeric_features)\n",
        "        ]\n",
        "    )\n",
        "\"\"\"\n"
      ],
      "metadata": {
        "id": "aKsLkA-8q4yI"
      },
      "execution_count": null,
      "outputs": []
    },
    {
      "cell_type": "code",
      "source": [
        "print(\"Splitting dataset into train set and test set...\")\n",
        "## Then we use train_test_split\n",
        "X_train, X_test, y_train, y_test = train_test_split(X, y, test_size=0.2, random_state=0,stratify=y)\n",
        "X_train = feature_encoder.fit_transform(X_train)"
      ],
      "metadata": {
        "id": "VMaV1gMXUnsR"
      },
      "execution_count": null,
      "outputs": []
    },
    {
      "cell_type": "code",
      "source": [
        "\"\"\"modified_data = feature_encoder.fit_transform(modified_data)\n",
        "print(\"...Done.\")\n",
        "print(\"#### X_train AFTER preprocessing ####\")\n",
        "#print(X_train[0:5,:]) # print first 5 rows (not using iloc since now X_train became a numpy array)\n",
        "print()\n"
      ],
      "metadata": {
        "id": "E320UWzL73Nz"
      },
      "execution_count": null,
      "outputs": []
    },
    {
      "cell_type": "code",
      "source": [
        "#X_train\n"
      ],
      "metadata": {
        "id": "JNazhcN87Z4W"
      },
      "execution_count": null,
      "outputs": []
    },
    {
      "cell_type": "code",
      "source": [
        "# Trainig model"
      ],
      "metadata": {
        "id": "Bl7xCWCOcaG9"
      },
      "execution_count": null,
      "outputs": []
    },
    {
      "cell_type": "code",
      "source": [
        "\"\"\"from sqlalchemy.sql.expression import true"
      ],
      "metadata": {
        "id": "ZTddkQsx7ueJ"
      },
      "execution_count": null,
      "outputs": []
    },
    {
      "cell_type": "code",
      "source": [
        "print(\"Training model...\")\n",
        "classifier = LogisticRegression(random_state = 0, class_weight='balanced', C=100) # Instanciate model\n"
      ],
      "metadata": {
        "id": "1nCC4EhhGAaJ"
      },
      "execution_count": null,
      "outputs": []
    },
    {
      "cell_type": "code",
      "source": [
        "classifier.fit(X_train, y_train) # Fit model\n",
        "\n",
        "print(\"...Done.\")"
      ],
      "metadata": {
        "id": "Q6ilkO9ThQ_f"
      },
      "execution_count": null,
      "outputs": []
    },
    {
      "cell_type": "code",
      "source": [
        "# Predictions on training set\n",
        "print(\"Predictions on train set...\")\n",
        "y_train_pred = classifier.predict(X_train)\n",
        "print(\"...Done.\")\n",
        "print()\n",
        "\n",
        "print(\"#### First five predictions on TRAIN set ####\")\n",
        "print(y_train_pred[0:5])"
      ],
      "metadata": {
        "id": "oJ5rqyDcBtkd"
      },
      "execution_count": null,
      "outputs": []
    },
    {
      "cell_type": "code",
      "source": [
        "### Test pipeline ###\n",
        "print(\"--- Test pipeline ---\")\n",
        "\n",
        "# Encoding categorical features and standardizing numeric features\n",
        "print(\"Encoding categorical features and standardizing numerical features...\")\n",
        "print()\n",
        "\n",
        "X_test = feature_encoder.transform(X_test)\n",
        "print(\"...Done.\")\n",
        "\n",
        "print(\"#### X_test AFTER preprocessing ####\")\n",
        "print(X_test[0:5,:])\n",
        "print()"
      ],
      "metadata": {
        "id": "vEIya1ldBzsE"
      },
      "execution_count": null,
      "outputs": []
    },
    {
      "cell_type": "code",
      "source": [
        "# Predictions on training set\n",
        "print(\"Predictions on test set...\")\n",
        "y_test_pred = classifier.predict(X_test)\n",
        "print(\"...Done.\")\n",
        "print()\n",
        "\n",
        "print(\"#### First five predictions on TEST set ####\")\n",
        "print(y_test_pred[0:5])"
      ],
      "metadata": {
        "id": "teygd9A1CLPt"
      },
      "execution_count": null,
      "outputs": []
    },
    {
      "cell_type": "code",
      "source": [
        "### Assessment of performances ###\n",
        "print(\"--- Assessment of performances ---\")\n",
        "\n",
        "# Plot confusion matrix\n",
        "cm = confusion_matrix(y_train, y_train_pred, labels=classifier.classes_)\n",
        "cm_display = ConfusionMatrixDisplay.from_predictions(y_train, y_train_pred)\n",
        "cm_display.ax_.set_title(\"Confusion matrix on train set \") # Simply to set a title\n",
        "plt.show() # Show graph\n",
        "print(\"accuracy-score on train set : \", classifier.score(X_train, y_train))\n",
        "\n",
        "\n",
        "cm = confusion_matrix(y_test, y_test_pred, labels=classifier.classes_)\n",
        "cm_display = ConfusionMatrixDisplay.from_predictions(y_test, y_test_pred)\n",
        "cm_display.ax_.set_title(\"Confusion matrix on testb set \") # Simply to set a title\n",
        "plt.show() # Show graph\n",
        "print(\"accuracy-score on test set : \", classifier.score(X_test, y_test))\n"
      ],
      "metadata": {
        "id": "zBeMxTw0CeMU"
      },
      "execution_count": null,
      "outputs": []
    },
    {
      "cell_type": "code",
      "source": [
        "from sklearn.metrics import classification_report\n",
        "\n",
        "print(classification_report(y_test, y_test_pred))"
      ],
      "metadata": {
        "id": "kLnZ05AXIkkz"
      },
      "execution_count": null,
      "outputs": []
    },
    {
      "cell_type": "code",
      "source": [],
      "metadata": {
        "id": "lRYw13Ixasy2"
      },
      "execution_count": null,
      "outputs": []
    },
    {
      "cell_type": "code",
      "source": [
        "# Check coefficients\n",
        "\n",
        "print(\"coefficients are: \", classifier.coef_)\n",
        "print(\"Constant is: \", classifier.intercept_)\n",
        "\n",
        "# Access transformers from feature_encoder\n",
        "print(\"All transformers are: \", feature_encoder.transformers_)\n",
        "\n",
        "# Access one specific transformer\n",
        "print(\"One Hot Encoder transformer is: \", feature_encoder.transformers_[0][1])\n",
        "\n",
        "# Print categories\n",
        "categorical_column_names = (feature_encoder.transformers_[0][1]\n",
        "                                            .get_feature_names_out(categorical_features))\n",
        "print(\"Categorical columns are: \", categorical_column_names)\n",
        "\n",
        "# Print numerical columns\n",
        "numerical_column_names = X.loc[:, numeric_features].columns # using the .columns attribute gives us the name of the column\n",
        "print(\"numerical columns are: \", numerical_column_names)\n",
        "\n",
        "# Append all columns\n",
        "all_column_names = np.append(categorical_column_names, numerical_column_names)\n",
        "print(\"All column names are: \",all_column_names)\n",
        "\n",
        "# Feature importance\n",
        "feature_importance = pd.DataFrame({\n",
        "    \"feature_names\":  all_column_names,\n",
        "    \"coefficients\":classifier.coef_.squeeze() # CAREFUL HERE. We need to access first index of our list because\n",
        "                                            # Data needs to be 1 dimensional\n",
        "                                            # That's what .squeeze() is for\n",
        "})\n",
        "\n",
        "feature_importance"
      ],
      "metadata": {
        "id": "GH7n004WE2K9"
      },
      "execution_count": null,
      "outputs": []
    },
    {
      "cell_type": "code",
      "source": [
        "# Set coefficient to absolute values to rank features\n",
        "feature_importance[\"coefficients\"] = feature_importance[\"coefficients\"].abs()\n",
        "\n",
        "# Visualize ranked features using seaborn\n",
        "s=sns.catplot(x=\"feature_names\",\n",
        "            y=\"coefficients\",\n",
        "            data=feature_importance.sort_values(by=\"coefficients\", ascending=False),\n",
        "            kind=\"bar\",\n",
        "\n",
        "              aspect=16/9) # Resize graph\n",
        "s.set_xticklabels(rotation=90)"
      ],
      "metadata": {
        "id": "w_5pICg6Ju-a"
      },
      "execution_count": null,
      "outputs": []
    },
    {
      "cell_type": "code",
      "source": [],
      "metadata": {
        "id": "mFtLxzC_cGRU"
      },
      "execution_count": null,
      "outputs": []
    }
  ]
}