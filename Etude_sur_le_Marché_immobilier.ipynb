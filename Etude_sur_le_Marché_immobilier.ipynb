{
  "nbformat": 4,
  "nbformat_minor": 0,
  "metadata": {
    "colab": {
      "private_outputs": true,
      "provenance": [],
      "toc_visible": true,
      "authorship_tag": "ABX9TyN+MBFEZVIz7wduN6p38ggs",
      "include_colab_link": true
    },
    "kernelspec": {
      "name": "python3",
      "display_name": "Python 3"
    },
    "language_info": {
      "name": "python"
    }
  },
  "cells": [
    {
      "cell_type": "markdown",
      "metadata": {
        "id": "view-in-github",
        "colab_type": "text"
      },
      "source": [
        "<a href=\"https://colab.research.google.com/github/Billy-24/my_mathematics_repo_temp/blob/main/Etude_sur_le_March%C3%A9_immobilier.ipynb\" target=\"_parent\"><img src=\"https://colab.research.google.com/assets/colab-badge.svg\" alt=\"Open In Colab\"/></a>"
      ]
    },
    {
      "cell_type": "code",
      "execution_count": null,
      "metadata": {
        "id": "BBNVbUWvHxt6"
      },
      "outputs": [],
      "source": [
        "import pandas as pd\n",
        "from google.colab import files\n",
        "import io\n",
        "uploaded = files.upload()\n",
        "import matplotlib.pyplot as plt\n",
        "import numpy as np\n",
        "import datetime\n",
        "import seaborn as sns\n",
        "import sklearn\n",
        "from sklearn.model_selection import train_test_split\n",
        "from sklearn.impute import SimpleImputer\n",
        "from sklearn.preprocessing import LabelEncoder"
      ]
    },
    {
      "cell_type": "code",
      "source": [
        "house_price= pd.read_csv(io.BytesIO(uploaded['house_price (1).csv']))\n",
        "house_price.head()"
      ],
      "metadata": {
        "id": "MOk95XwdJ3Qq"
      },
      "execution_count": null,
      "outputs": []
    },
    {
      "cell_type": "code",
      "source": [
        "# Définissez les noms de colonnes personnalisés dans l'ordre correspondant à vos données\n",
        "noms_colonnes = [\"id\", \"pièce\"]\n",
        "nombre_de_chambres= pd.read_csv('nombre_de_chambres (1).csv', names=noms_colonnes, header=None)\n",
        "nombre_de_chambres.head()"
      ],
      "metadata": {
        "id": "5jsEIP5pKqhR"
      },
      "execution_count": null,
      "outputs": []
    },
    {
      "cell_type": "code",
      "source": [
        "# Définissez les noms de colonnes personnalisés dans l'ordre correspondant à vos données\n",
        "noms_colonnes = [\"id\", \"sale de bain\"]\n",
        "nombre_de_sdb = pd.read_csv('nombre_de_sdb (1).csv', names=noms_colonnes, header=None)\n",
        "nombre_de_sdb.head()"
      ],
      "metadata": {
        "id": "5YsRYDjZKwSO"
      },
      "execution_count": null,
      "outputs": []
    },
    {
      "cell_type": "code",
      "source": [
        "# Définissez les noms de colonnes personnalisés dans l'ordre correspondant à vos données\n",
        "noms_colonnes = [\"id\", \"Surface\"]\n",
        "superficie = pd.read_csv('superficie (1).csv', names=noms_colonnes, header=None)\n",
        "superficie.head()"
      ],
      "metadata": {
        "id": "-l_LRQH4K5E2"
      },
      "execution_count": null,
      "outputs": []
    },
    {
      "cell_type": "code",
      "source": [
        "\n",
        "# Première jointure entre house_price et nombre_de_chambres\n",
        "merged_data = pd.merge(house_price, nombre_de_chambres, left_on='id', right_on='id')\n",
        "\n",
        "# Deuxième jointure entre merged_data et nombre_de_sdb\n",
        "merged_data = pd.merge(merged_data, nombre_de_sdb, left_on='id', right_on='id')\n",
        "\n",
        "# Troisième jointure entre merged_data et superficie\n",
        "merged_data = pd.merge(merged_data, superficie, left_on='id', right_on='id')\n",
        "\n",
        "# Affichez la trame de données fusionnée\n",
        "print(merged_data)"
      ],
      "metadata": {
        "id": "oWlhJ1tdOFqe"
      },
      "execution_count": null,
      "outputs": []
    },
    {
      "cell_type": "code",
      "source": [
        "# Calculez la superficie moyenne\n",
        "superficie_moyenne = merged_data.mean()\n",
        "\n",
        "# Affichez le résultat\n",
        "print(\"La superficie moyenne des maisons est de :\", superficie_moyenne)"
      ],
      "metadata": {
        "id": "9Ho_DtwmWLRV"
      },
      "execution_count": null,
      "outputs": []
    },
    {
      "cell_type": "code",
      "source": [
        " ###Calculez la superficie moyenne\n",
        "superficie_moyenne = merged_data['Surface'].mean()\n",
        "\n",
        "# Affichez le résultat\n",
        "print(\"La superficie moyenne des maisons est de :\", superficie_moyenne)"
      ],
      "metadata": {
        "id": "-aTCe0kEZvsp"
      },
      "execution_count": null,
      "outputs": []
    },
    {
      "cell_type": "code",
      "source": [
        "# Calculez le nombre médian de pièces\n",
        "nombre_median_de_pieces = merged_data['pièce'].median()\n",
        "nombre_moyen_de_pieces = merged_data['pièce'].mean()\n",
        "# Affichez les résultats\n",
        "print(\"Le nombre moyen de pièces est de :\", nombre_moyen_de_pieces)\n",
        "print(\"Le nombre médian de pièces est de :\", nombre_median_de_pieces)"
      ],
      "metadata": {
        "id": "PUqOEabgZFLd"
      },
      "execution_count": null,
      "outputs": []
    },
    {
      "cell_type": "code",
      "source": [
        "#Quel est le coût moyen d'une maison ?\n",
        "coût_moyen= merged_data['house_price'].mean()\n",
        "\n",
        "# Affichez le résultat\n",
        "print(\"Le coût moyenne des maisons est de :\", coût_moyen)"
      ],
      "metadata": {
        "id": "qoNhkZQsaNq6"
      },
      "execution_count": null,
      "outputs": []
    },
    {
      "cell_type": "code",
      "source": [
        "# Calculez le coût moyen d'une maison en fonction du nombre de pièces qu'elle comporte\n",
        "cout_moyen_par_piece =  merged_data.groupby('pièce')['house_price'].mean()\n",
        "\n",
        "# Affichez les résultats\n",
        "print(cout_moyen_par_piece)"
      ],
      "metadata": {
        "id": "o_7wWMH1bAbn"
      },
      "execution_count": null,
      "outputs": []
    },
    {
      "cell_type": "code",
      "source": [
        "# Créez la nouvelle colonne \"home_size\" en utilisant les catégories\n",
        "conditions = [merged_data['Surface'] > 25000,(merged_data['Surface'] >= 20000) & (merged_data['Surface'] <= 25000),\n",
        "    (merged_data['Surface'] >= 15000) & (merged_data['Surface'] < 20000),(merged_data['Surface'] >= 10000) & (merged_data['Surface'] < 15000),\n",
        "   merged_data['Surface'] < 10000]\n",
        "\n",
        "categories = ['très grande', 'large', 'medium', 'small', 'très petit']\n",
        "\n",
        "merged_data['home_size'] = pd.Categorical(np.select(conditions, categories, default='Inconnu'))\n",
        "\n",
        "# Affichez les premières lignes de votre DataFrame avec la nouvelle colonne \"home_size\"\n",
        "print(merged_data.head(100))"
      ],
      "metadata": {
        "id": "ArTxGryKb6Gu"
      },
      "execution_count": null,
      "outputs": []
    },
    {
      "cell_type": "code",
      "source": [
        "# Quel est le coût moyen d’une maison en fonction de sa catégorie de taille ?\n",
        "cout_moyen_par_home_size =  merged_data.groupby('home_size')['house_price'].mean()\n",
        "\n",
        "# Affichez les résultats\n",
        "print(cout_moyen_par_home_size)"
      ],
      "metadata": {
        "id": "USSvt5RNd-aO"
      },
      "execution_count": null,
      "outputs": []
    },
    {
      "cell_type": "code",
      "source": [
        "#Appliquez le code ci-dessous pour afficher votre résultat. Que pouvez-vous conclure ?\n",
        "%matplotlib inline\n",
        "sns.lmplot(x = \"Surface\", y=\"house_price\", data =  merged_data)"
      ],
      "metadata": {
        "id": "HZJEGyxDeeXl"
      },
      "execution_count": null,
      "outputs": []
    }
  ]
}